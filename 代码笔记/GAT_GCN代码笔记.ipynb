{
 "cells": [
  {
   "cell_type": "code",
   "execution_count": 1,
   "metadata": {},
   "outputs": [
    {
     "name": "stderr",
     "output_type": "stream",
     "text": [
      "d:\\anaconda\\envs\\xiaozhaopytorch\\lib\\site-packages\\tqdm\\auto.py:22: TqdmWarning: IProgress not found. Please update jupyter and ipywidgets. See https://ipywidgets.readthedocs.io/en/stable/user_install.html\n",
      "  from .autonotebook import tqdm as notebook_tqdm\n"
     ]
    }
   ],
   "source": [
    "import torch\n",
    "import torch.nn as nn\n",
    "import torch.nn.functional as F\n",
    "from torch.nn import Sequential, Linear, ReLU\n",
    "from torch_geometric.nn import GCNConv, GATConv, GINConv, global_add_pool\n",
    "from torch_geometric.nn import global_mean_pool as gap, global_max_pool as gmp\n",
    "\n",
    "# GCN-CNN based model\n",
    "\n",
    "class GCN_GAT(torch.nn.Module):\n",
    "    def __init__(self, n_output=1, num_features_xd=78, num_features_xt=25,\n",
    "                 n_filters=32, embed_dim=128, output_dim=128, dropout=0.2):\n",
    "        super(GCN_GAT,self).__init__()\n",
    "\n",
    "        self.n_output = n_output\n",
    "        self.relu = nn.ReLU()\n",
    "        self.dropout = nn.Dropout(dropout)\n",
    "\n",
    "        self.conv1 = GATConv(num_features_xd,num_features_xd,heads=10)\n",
    "        self.conv2 = GCNConv(num_features_xd*10,num_features_xd*10)\n",
    "        self.fc_g1 = torch.nn.Linear(num_features_xd*10*2,1500)\n",
    "        self.fc_g2 = torch.nn.Linear(1500,output_dim)\n",
    "        # 1D convolution on protein sequence\n",
    "        self.embedding_xt = nn.Embedding(num_features_xt + 1, embed_dim)\n",
    "        self.conv_xt_1 = nn.Conv1d(in_channels=1000, out_channels=n_filters, kernel_size=8)\n",
    "        self.fc1_xt = nn.Linear(32*121, output_dim)\n",
    "\n",
    "        # combined layers\n",
    "        self.fc1 = nn.Linear(256, 1024)\n",
    "        self.fc2 = nn.Linear(1024, 512)\n",
    "        self.out = nn.Linear(512, self.n_output)        # n_output = 1 for regression task\n",
    "\n",
    "    def forward(self, data):\n",
    "        x, edge_index, batch = data.x, data.edge_index, data.batch\n",
    "        target = data.target\n",
    "        # print('x shape = ', x.shape)\n",
    "        x = self.conv1(x,edge_index)\n",
    "        x = self.relu(x)\n",
    "        x = self.conv2(x,edge_index)\n",
    "        x = self.relu(x)\n",
    "\n",
    "        x = torch.cat([gmp(x,batch),gap(x,batch)],dim=1)\n",
    "        x = self.relu(self.fc_g1(x))\n",
    "        x = self.dropout(x)\n",
    "        x = self.fc_g2(x)\n",
    "\n",
    "        embedded_xt = self.embedding_xt(target)\n",
    "        conv_xt = self.conv_xt_1(embedded_xt)\n",
    "        # flatten\n",
    "        xt = conv_xt.view(-1, 32 * 121)\n",
    "        xt = self.fc1_xt(xt)\n",
    "\n",
    "        # concat\n",
    "        xc = torch.cat((x, xt), 1)\n",
    "        # add some dense layers\n",
    "        xc = self.fc1(xc)\n",
    "        xc = self.relu(xc)\n",
    "        xc = self.dropout(xc)\n",
    "        xc = self.fc2(xc)\n",
    "        xc = self.relu(xc)\n",
    "        xc = self.dropout(xc)\n",
    "        out = self.out(xc)\n",
    "        return out               "
   ]
  }
 ],
 "metadata": {
  "kernelspec": {
   "display_name": "Python 3",
   "language": "python",
   "name": "python3"
  },
  "language_info": {
   "codemirror_mode": {
    "name": "ipython",
    "version": 3
   },
   "file_extension": ".py",
   "mimetype": "text/x-python",
   "name": "python",
   "nbconvert_exporter": "python",
   "pygments_lexer": "ipython3",
   "version": "3.6.15"
  },
  "orig_nbformat": 4
 },
 "nbformat": 4,
 "nbformat_minor": 2
}
